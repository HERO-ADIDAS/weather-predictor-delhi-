{
 "cells": [
  {
   "cell_type": "code",
   "execution_count": 210,
   "metadata": {},
   "outputs": [],
   "source": [
    "import torch\n",
    "import numpy as np  \n",
    "import matplotlib.pyplot as plt\n",
    "import pandas as pd\n"
   ]
  },
  {
   "cell_type": "markdown",
   "metadata": {},
   "source": [
    "temperature_2m (°C)"
   ]
  },
  {
   "cell_type": "code",
   "execution_count": 211,
   "metadata": {},
   "outputs": [
    {
     "name": "stdout",
     "output_type": "stream",
     "text": [
      "Using device: cuda\n"
     ]
    }
   ],
   "source": [
    "device = \"cuda\" if torch.cuda.is_available() else \"cpu\"\n",
    "print(f\"Using device: {device}\")"
   ]
  },
  {
   "cell_type": "code",
   "execution_count": 212,
   "metadata": {},
   "outputs": [
    {
     "data": {
      "text/html": [
       "<div>\n",
       "<style scoped>\n",
       "    .dataframe tbody tr th:only-of-type {\n",
       "        vertical-align: middle;\n",
       "    }\n",
       "\n",
       "    .dataframe tbody tr th {\n",
       "        vertical-align: top;\n",
       "    }\n",
       "\n",
       "    .dataframe thead th {\n",
       "        text-align: right;\n",
       "    }\n",
       "</style>\n",
       "<table border=\"1\" class=\"dataframe\">\n",
       "  <thead>\n",
       "    <tr style=\"text-align: right;\">\n",
       "      <th></th>\n",
       "      <th>temperature_2m</th>\n",
       "      <th>apparent_temperature</th>\n",
       "      <th>precipitation_probability</th>\n",
       "      <th>precipitation</th>\n",
       "      <th>rain</th>\n",
       "    </tr>\n",
       "    <tr>\n",
       "      <th>time</th>\n",
       "      <th></th>\n",
       "      <th></th>\n",
       "      <th></th>\n",
       "      <th></th>\n",
       "      <th></th>\n",
       "    </tr>\n",
       "  </thead>\n",
       "  <tbody>\n",
       "    <tr>\n",
       "      <th>2023-08-27 19:00:00</th>\n",
       "      <td>NaN</td>\n",
       "      <td>NaN</td>\n",
       "      <td>NaN</td>\n",
       "      <td>NaN</td>\n",
       "      <td>NaN</td>\n",
       "    </tr>\n",
       "    <tr>\n",
       "      <th>2023-08-27 20:00:00</th>\n",
       "      <td>NaN</td>\n",
       "      <td>NaN</td>\n",
       "      <td>NaN</td>\n",
       "      <td>NaN</td>\n",
       "      <td>NaN</td>\n",
       "    </tr>\n",
       "    <tr>\n",
       "      <th>2023-08-27 21:00:00</th>\n",
       "      <td>NaN</td>\n",
       "      <td>NaN</td>\n",
       "      <td>NaN</td>\n",
       "      <td>NaN</td>\n",
       "      <td>NaN</td>\n",
       "    </tr>\n",
       "    <tr>\n",
       "      <th>2023-08-27 22:00:00</th>\n",
       "      <td>NaN</td>\n",
       "      <td>NaN</td>\n",
       "      <td>NaN</td>\n",
       "      <td>NaN</td>\n",
       "      <td>NaN</td>\n",
       "    </tr>\n",
       "    <tr>\n",
       "      <th>2023-08-27 23:00:00</th>\n",
       "      <td>27.385000</td>\n",
       "      <td>32.860813</td>\n",
       "      <td>NaN</td>\n",
       "      <td>0.0</td>\n",
       "      <td>0.0</td>\n",
       "    </tr>\n",
       "    <tr>\n",
       "      <th>...</th>\n",
       "      <td>...</td>\n",
       "      <td>...</td>\n",
       "      <td>...</td>\n",
       "      <td>...</td>\n",
       "      <td>...</td>\n",
       "    </tr>\n",
       "    <tr>\n",
       "      <th>2024-01-30 14:00:00</th>\n",
       "      <td>17.185000</td>\n",
       "      <td>17.973215</td>\n",
       "      <td>0.0</td>\n",
       "      <td>0.0</td>\n",
       "      <td>0.0</td>\n",
       "    </tr>\n",
       "    <tr>\n",
       "      <th>2024-01-30 15:00:00</th>\n",
       "      <td>16.185000</td>\n",
       "      <td>16.901530</td>\n",
       "      <td>0.0</td>\n",
       "      <td>0.0</td>\n",
       "      <td>0.0</td>\n",
       "    </tr>\n",
       "    <tr>\n",
       "      <th>2024-01-30 16:00:00</th>\n",
       "      <td>15.485001</td>\n",
       "      <td>16.188198</td>\n",
       "      <td>0.0</td>\n",
       "      <td>0.0</td>\n",
       "      <td>0.0</td>\n",
       "    </tr>\n",
       "    <tr>\n",
       "      <th>2024-01-30 17:00:00</th>\n",
       "      <td>14.835000</td>\n",
       "      <td>15.468615</td>\n",
       "      <td>0.0</td>\n",
       "      <td>0.0</td>\n",
       "      <td>0.0</td>\n",
       "    </tr>\n",
       "    <tr>\n",
       "      <th>2024-01-30 18:00:00</th>\n",
       "      <td>14.335000</td>\n",
       "      <td>14.815037</td>\n",
       "      <td>0.0</td>\n",
       "      <td>0.0</td>\n",
       "      <td>0.0</td>\n",
       "    </tr>\n",
       "  </tbody>\n",
       "</table>\n",
       "<p>3744 rows × 5 columns</p>\n",
       "</div>"
      ],
      "text/plain": [
       "                     temperature_2m  apparent_temperature  \\\n",
       "time                                                        \n",
       "2023-08-27 19:00:00             NaN                   NaN   \n",
       "2023-08-27 20:00:00             NaN                   NaN   \n",
       "2023-08-27 21:00:00             NaN                   NaN   \n",
       "2023-08-27 22:00:00             NaN                   NaN   \n",
       "2023-08-27 23:00:00       27.385000             32.860813   \n",
       "...                             ...                   ...   \n",
       "2024-01-30 14:00:00       17.185000             17.973215   \n",
       "2024-01-30 15:00:00       16.185000             16.901530   \n",
       "2024-01-30 16:00:00       15.485001             16.188198   \n",
       "2024-01-30 17:00:00       14.835000             15.468615   \n",
       "2024-01-30 18:00:00       14.335000             14.815037   \n",
       "\n",
       "                     precipitation_probability  precipitation  rain  \n",
       "time                                                                 \n",
       "2023-08-27 19:00:00                        NaN            NaN   NaN  \n",
       "2023-08-27 20:00:00                        NaN            NaN   NaN  \n",
       "2023-08-27 21:00:00                        NaN            NaN   NaN  \n",
       "2023-08-27 22:00:00                        NaN            NaN   NaN  \n",
       "2023-08-27 23:00:00                        NaN            0.0   0.0  \n",
       "...                                        ...            ...   ...  \n",
       "2024-01-30 14:00:00                        0.0            0.0   0.0  \n",
       "2024-01-30 15:00:00                        0.0            0.0   0.0  \n",
       "2024-01-30 16:00:00                        0.0            0.0   0.0  \n",
       "2024-01-30 17:00:00                        0.0            0.0   0.0  \n",
       "2024-01-30 18:00:00                        0.0            0.0   0.0  \n",
       "\n",
       "[3744 rows x 5 columns]"
      ]
     },
     "execution_count": 212,
     "metadata": {},
     "output_type": "execute_result"
    }
   ],
   "source": [
    "\n",
    "weather=pd.read_csv('data/hourly.csv',index_col='time',parse_dates=True)\n",
    "\n",
    "weather\n"
   ]
  },
  {
   "cell_type": "code",
   "execution_count": 213,
   "metadata": {},
   "outputs": [],
   "source": [
    "def nullpecentage(weather):\n",
    "    null_columns=weather.columns[weather.isnull().any()]\n",
    "    null_pct=weather[null_columns].isnull().sum()*100/len(weather)\n",
    "    weather=weather.ffill()\n",
    "    return null_pct\n"
   ]
  },
  {
   "cell_type": "code",
   "execution_count": 214,
   "metadata": {},
   "outputs": [
    {
     "data": {
      "text/plain": [
       "temperature_2m               0.106838\n",
       "apparent_temperature         0.106838\n",
       "precipitation_probability    5.582265\n",
       "precipitation                0.106838\n",
       "rain                         0.106838\n",
       "dtype: float64"
      ]
     },
     "execution_count": 214,
     "metadata": {},
     "output_type": "execute_result"
    }
   ],
   "source": [
    "\n",
    "nullpecentage(weather)"
   ]
  },
  {
   "cell_type": "code",
   "execution_count": 215,
   "metadata": {},
   "outputs": [
    {
     "data": {
      "text/plain": [
       "temperature_2m               float64\n",
       "apparent_temperature         float64\n",
       "precipitation_probability    float64\n",
       "precipitation                float64\n",
       "rain                         float64\n",
       "dtype: object"
      ]
     },
     "execution_count": 215,
     "metadata": {},
     "output_type": "execute_result"
    }
   ],
   "source": [
    "\n",
    "weather.dtypes"
   ]
  },
  {
   "cell_type": "code",
   "execution_count": 216,
   "metadata": {},
   "outputs": [
    {
     "data": {
      "text/plain": [
       "time\n",
       "2023    3029\n",
       "2024     715\n",
       "Name: count, dtype: int64"
      ]
     },
     "execution_count": 216,
     "metadata": {},
     "output_type": "execute_result"
    }
   ],
   "source": [
    "weather.index=pd.to_datetime(weather.index)\n",
    "weather.index.year.value_counts().sort_index()"
   ]
  },
  {
   "cell_type": "code",
   "execution_count": 217,
   "metadata": {},
   "outputs": [
    {
     "name": "stdout",
     "output_type": "stream",
     "text": [
      "temperature_2m               0.106838\n",
      "apparent_temperature         0.106838\n",
      "precipitation_probability    5.582265\n",
      "precipitation                0.106838\n",
      "rain                         0.106838\n",
      "target_temp                  0.080128\n",
      "target_preci                 5.555556\n",
      "dtype: float64\n"
     ]
    }
   ],
   "source": [
    "def convert(weather,target,column):\n",
    "    weather[target]=weather[column].shift(-1)\n",
    "    \n",
    "convert(weather,\"target_temp\",\"temperature_2m\")\n",
    "convert(weather,\"target_preci\",\"precipitation_probability\")\n",
    "weather=weather.ffill()\n",
    "print(nullpecentage(weather))\n",
    "\n"
   ]
  },
  {
   "cell_type": "code",
   "execution_count": 218,
   "metadata": {},
   "outputs": [],
   "source": [
    "from sklearn.linear_model import Ridge\n",
    "wmodel=Ridge(alpha=0.01)\n",
    "pred=weather.columns[~weather.columns.isin([\"target_temp\"])]\n",
    "\n"
   ]
  },
  {
   "cell_type": "code",
   "execution_count": 219,
   "metadata": {},
   "outputs": [
    {
     "data": {
      "text/plain": [
       "3744"
      ]
     },
     "execution_count": 219,
     "metadata": {},
     "output_type": "execute_result"
    }
   ],
   "source": [
    "weather.shape[0]"
   ]
  },
  {
   "cell_type": "code",
   "execution_count": 220,
   "metadata": {},
   "outputs": [],
   "source": [
    "def backtest(weather,model,pred,target,start=24,step=4,):\n",
    "    all_pred=[] \n",
    "    for i in range(start,weather.shape[0],step):\n",
    "        train=weather.iloc[:i,:]\n",
    "        test=weather.iloc[i:i+step,:]\n",
    "        model.fit(train[pred],train[target])\n",
    "        predict=model.predict(test[pred])\n",
    "        predict=pd.Series(predict,index=test.index) \n",
    "        combined=pd.concat([predict,test[target]],axis=1)\n",
    "        combined.columns=[\"predict\",\"actual\"]\n",
    "        combined[\"diff\"]=(combined[\"predict\"]-combined[\"actual\"]).abs()\n",
    "        all_pred.append(combined)\n",
    "    return pd.concat(all_pred)\n",
    "\n",
    "        \n",
    "      "
   ]
  },
  {
   "cell_type": "code",
   "execution_count": 221,
   "metadata": {},
   "outputs": [],
   "source": [
    "def pct_diff(old,new):\n",
    "    return (new-old)/old\n",
    "def rolling(weather,horizon,col):\n",
    "    lablel=f\"rolling_{horizon}_{col}\"\n",
    "    weather[lablel]=weather[col].rolling(horizon).mean()\n",
    "    weather[f\"{lablel}_pct\"]=pct_diff(weather[lablel],weather[col])\n",
    "    return weather\n",
    "\n",
    "    \n",
    "    "
   ]
  },
  {
   "cell_type": "code",
   "execution_count": 222,
   "metadata": {},
   "outputs": [],
   "source": [
    "def compute_rolling(weather,column,):\n",
    "    rolling_horizon=[3,6]\n",
    "    for horizon in rolling_horizon:\n",
    "        for col in [column]:\n",
    "            weather=rolling(weather,horizon,col)\n",
    "    weather=weather.iloc[6:,:]\n",
    "    weather.fillna(0,inplace=True)\n",
    "    return weather\n",
    "    \n",
    "    # prediction=backtest(weather,wmodel,pred,target)\n",
    "    # print(prediction.sort_values(\"time\",ascending=False).head(30))\n",
    "\n",
    "    # print((prediction[\"diff\"].round().value_counts().sort_index() / prediction.shape[0]).plot())\n",
    "\n",
    "# weather=compute_rolling(weather,\"target_temp\",\"temperature_2m\",pred)\n",
    "# prediction=backtest(weather,wmodel,pred,\"target_temp\")\n",
    "\n"
   ]
  },
  {
   "cell_type": "code",
   "execution_count": 223,
   "metadata": {},
   "outputs": [],
   "source": [
    "def call_pred(weather):    \n",
    "    pred=weather.columns[~weather.columns.isin([\"target_temp\"])]\n",
    "    prediction=backtest(weather,wmodel,pred,\"target_temp\")\n",
    "    prediction.sort_values(\"diff\",ascending=False)\n",
    "    print(prediction.sort_values(\"time\",ascending=False).head(60))\n",
    "    (prediction[\"diff\"].round().value_counts().sort_index() / prediction.shape[0]).plot()\n",
    "\n"
   ]
  },
  {
   "cell_type": "code",
   "execution_count": 224,
   "metadata": {},
   "outputs": [
    {
     "name": "stderr",
     "output_type": "stream",
     "text": [
      "C:\\Users\\ADIDAS\\AppData\\Local\\Temp\\ipykernel_5592\\477098316.py:7: SettingWithCopyWarning: \n",
      "A value is trying to be set on a copy of a slice from a DataFrame\n",
      "\n",
      "See the caveats in the documentation: https://pandas.pydata.org/pandas-docs/stable/user_guide/indexing.html#returning-a-view-versus-a-copy\n",
      "  weather.fillna(0,inplace=True)\n"
     ]
    },
    {
     "name": "stdout",
     "output_type": "stream",
     "text": [
      "                       predict     actual      diff\n",
      "time                                               \n",
      "2024-01-30 18:00:00  14.149548  14.335000  0.185452\n",
      "2024-01-30 17:00:00  14.559889  14.335000  0.224889\n",
      "2024-01-30 16:00:00  15.057379  14.835000  0.222379\n",
      "2024-01-30 15:00:00  15.344265  15.485001  0.140736\n",
      "2024-01-30 14:00:00  16.018632  16.185000  0.166368\n",
      "2024-01-30 13:00:00  17.615188  17.185000  0.430188\n",
      "2024-01-30 12:00:00  19.306609  18.585000  0.721609\n",
      "2024-01-30 11:00:00  20.136461  19.835000  0.301461\n",
      "2024-01-30 10:00:00  20.567738  20.335000  0.232738\n",
      "2024-01-30 09:00:00  20.305630  20.435000  0.129370\n",
      "2024-01-30 08:00:00  20.173830  19.935000  0.238830\n",
      "2024-01-30 07:00:00  19.837513  19.135000  0.702513\n",
      "2024-01-30 06:00:00  17.986142  17.935000  0.051142\n",
      "2024-01-30 05:00:00  15.192689  15.635000  0.442311\n",
      "2024-01-30 04:00:00  11.799906  13.285001  1.485095\n",
      "2024-01-30 03:00:00  11.561372  11.135000  0.426372\n",
      "2024-01-30 02:00:00  11.173827  10.835000  0.338827\n",
      "2024-01-30 01:00:00  10.506441  10.585000  0.078559\n",
      "2024-01-30 00:00:00  10.431763  10.385000  0.046763\n",
      "2024-01-29 23:00:00  10.758983  10.685000  0.073983\n",
      "2024-01-29 22:00:00  12.105408  11.185000  0.920408\n",
      "2024-01-29 21:00:00  12.934384  12.085000  0.849384\n",
      "2024-01-29 20:00:00  13.228224  12.535001  0.693223\n",
      "2024-01-29 19:00:00  11.893023  12.835000  0.941977\n",
      "2024-01-29 18:00:00  12.289562  12.735001  0.445439\n",
      "2024-01-29 17:00:00  15.521325  13.585000  1.936325\n",
      "2024-01-29 16:00:00  16.185880  15.735001  0.450879\n",
      "2024-01-29 15:00:00  16.240395  16.435000  0.194605\n",
      "2024-01-29 14:00:00  16.520403  16.984999  0.464596\n",
      "2024-01-29 13:00:00  18.137471  17.885000  0.252471\n",
      "2024-01-29 12:00:00  20.794725  19.335000  1.459725\n",
      "2024-01-29 11:00:00  20.796841  21.135000  0.338159\n",
      "2024-01-29 10:00:00  21.423430  21.185000  0.238430\n",
      "2024-01-29 09:00:00  21.596340  21.385000  0.211340\n",
      "2024-01-29 08:00:00  21.189618  21.035000  0.154618\n",
      "2024-01-29 07:00:00  19.748820  20.135000  0.386180\n",
      "2024-01-29 06:00:00  17.840945  18.685000  0.844055\n",
      "2024-01-29 05:00:00  17.736174  16.835000  0.901174\n",
      "2024-01-29 04:00:00  15.421636  15.735001  0.313365\n",
      "2024-01-29 03:00:00  12.285461  13.585000  1.299539\n",
      "2024-01-29 02:00:00  11.075432  11.585000  0.509568\n",
      "2024-01-29 01:00:00  11.220869  10.935000  0.285869\n",
      "2024-01-29 00:00:00  11.143666  11.135000  0.008666\n",
      "2024-01-28 23:00:00  11.711947  11.235001  0.476946\n",
      "2024-01-28 22:00:00  11.802302  11.685000  0.117302\n",
      "2024-01-28 21:00:00  12.195386  11.835000  0.360386\n",
      "2024-01-28 20:00:00  12.648447  12.085000  0.563447\n",
      "2024-01-28 19:00:00  12.385237  12.285001  0.100236\n",
      "2024-01-28 18:00:00  11.812471  12.285001  0.472530\n",
      "2024-01-28 17:00:00  12.924413  12.185000  0.739413\n",
      "2024-01-28 16:00:00  13.130813  12.985001  0.145812\n",
      "2024-01-28 15:00:00  13.514716  13.335000  0.179716\n",
      "2024-01-28 14:00:00  13.687840  13.935000  0.247160\n",
      "2024-01-28 13:00:00  14.325267  14.585000  0.259733\n",
      "2024-01-28 12:00:00  15.471278  15.735001  0.263723\n",
      "2024-01-28 11:00:00  18.276001  17.085000  1.191001\n",
      "2024-01-28 10:00:00  19.085623  19.135000  0.049377\n",
      "2024-01-28 09:00:00  19.787805  19.785000  0.002805\n",
      "2024-01-28 08:00:00  20.083289  20.185000  0.101711\n",
      "2024-01-28 07:00:00  19.959774  20.035000  0.075226\n"
     ]
    },
    {
     "data": {
      "image/png": "[encoded data removed]",
      "text/plain": [
       "<Figure size 640x480 with 1 Axes>"
      ]
     },
     "metadata": {},
     "output_type": "display_data"
    }
   ],
   "source": [
    "\n",
    "\n",
    "weather=compute_rolling(weather,\"temperature_2m\")\n",
    "prediction=backtest(weather,wmodel,pred,\"target_temp\")\n",
    "call_pred(weather)  \n"
   ]
  },
  {
   "cell_type": "code",
   "execution_count": 225,
   "metadata": {},
   "outputs": [],
   "source": [
    "class weathermodel:\n",
    "    \n",
    "    \n",
    "    def next_hour_prediction(self,weather,model,pred):\n",
    "        train=weather.iloc[:-1,:]\n",
    "        test=weather.iloc[-1:,:]\n",
    "        \n",
    "        \n",
    "        model.fit(train[pred],train[\"target_temp\"])\n",
    "        predictt=model.predict(test[pred])\n",
    "        return predictt\n",
    "\n",
    "    def next_day_prediction(self,weather, model, pred):\n",
    "        train = weather.iloc[:-1,:]\n",
    "        test = weather.iloc[-24:,:]\n",
    "        \n",
    "\n",
    "        start_time = time.time()\n",
    "        model.fit(train[pred], train[\"target_temp\"])\n",
    "        end_time = time.time()\n",
    "        print(f\"Training time: {end_time - start_time} seconds\")\n",
    "\n",
    "        start_time = time.time()\n",
    "        predict = model.predict(test[pred])\n",
    "        end_time = time.time()\n",
    "        print(f\"Prediction time: {end_time - start_time} seconds\")\n",
    "        predictions_df = pd.DataFrame({\n",
    "            'Time Slot': test.index+pd.Timedelta(days=1),\n",
    "            'Predicted Temp': predict\n",
    "        })\n",
    "        \n",
    "        return predictions_df\n",
    "\n",
    "    def display(self):\n",
    "        print(self.next_day_prediction(weather,wmodel,pred))\n",
    "    def display1(self):\n",
    "        print(\"the next hour that is \", time.strftime(\"%H:%M:%S\", time.localtime()), \"the temperature will be \", self.next_hour_prediction(weather,wmodel,pred)[0], \"°C\")\n",
    "        \n"
   ]
  },
  {
   "cell_type": "code",
   "execution_count": 226,
   "metadata": {},
   "outputs": [
    {
     "name": "stdout",
     "output_type": "stream",
     "text": [
      "Training time: 0.0015041828155517578 seconds\n",
      "Prediction time: 0.001001119613647461 seconds\n"
     ]
    },
    {
     "data": {
      "text/html": [
       "<div>\n",
       "<style scoped>\n",
       "    .dataframe tbody tr th:only-of-type {\n",
       "        vertical-align: middle;\n",
       "    }\n",
       "\n",
       "    .dataframe tbody tr th {\n",
       "        vertical-align: top;\n",
       "    }\n",
       "\n",
       "    .dataframe thead th {\n",
       "        text-align: right;\n",
       "    }\n",
       "</style>\n",
       "<table border=\"1\" class=\"dataframe\">\n",
       "  <thead>\n",
       "    <tr style=\"text-align: right;\">\n",
       "      <th></th>\n",
       "      <th>Time Slot</th>\n",
       "      <th>Predicted Temp</th>\n",
       "    </tr>\n",
       "  </thead>\n",
       "  <tbody>\n",
       "    <tr>\n",
       "      <th>0</th>\n",
       "      <td>2024-01-30 19:00:00</td>\n",
       "      <td>12.953478</td>\n",
       "    </tr>\n",
       "    <tr>\n",
       "      <th>1</th>\n",
       "      <td>2024-01-30 20:00:00</td>\n",
       "      <td>13.033887</td>\n",
       "    </tr>\n",
       "    <tr>\n",
       "      <th>2</th>\n",
       "      <td>2024-01-30 21:00:00</td>\n",
       "      <td>12.741606</td>\n",
       "    </tr>\n",
       "    <tr>\n",
       "      <th>3</th>\n",
       "      <td>2024-01-30 22:00:00</td>\n",
       "      <td>12.286263</td>\n",
       "    </tr>\n",
       "    <tr>\n",
       "      <th>4</th>\n",
       "      <td>2024-01-30 23:00:00</td>\n",
       "      <td>11.399641</td>\n",
       "    </tr>\n",
       "    <tr>\n",
       "      <th>5</th>\n",
       "      <td>2024-01-31 00:00:00</td>\n",
       "      <td>10.906772</td>\n",
       "    </tr>\n",
       "    <tr>\n",
       "      <th>6</th>\n",
       "      <td>2024-01-31 01:00:00</td>\n",
       "      <td>10.609479</td>\n",
       "    </tr>\n",
       "    <tr>\n",
       "      <th>7</th>\n",
       "      <td>2024-01-31 02:00:00</td>\n",
       "      <td>10.807163</td>\n",
       "    </tr>\n",
       "    <tr>\n",
       "      <th>8</th>\n",
       "      <td>2024-01-31 03:00:00</td>\n",
       "      <td>11.036558</td>\n",
       "    </tr>\n",
       "    <tr>\n",
       "      <th>9</th>\n",
       "      <td>2024-01-31 04:00:00</td>\n",
       "      <td>11.335605</td>\n",
       "    </tr>\n",
       "    <tr>\n",
       "      <th>10</th>\n",
       "      <td>2024-01-31 05:00:00</td>\n",
       "      <td>13.436489</td>\n",
       "    </tr>\n",
       "    <tr>\n",
       "      <th>11</th>\n",
       "      <td>2024-01-31 06:00:00</td>\n",
       "      <td>15.725506</td>\n",
       "    </tr>\n",
       "    <tr>\n",
       "      <th>12</th>\n",
       "      <td>2024-01-31 07:00:00</td>\n",
       "      <td>17.941003</td>\n",
       "    </tr>\n",
       "    <tr>\n",
       "      <th>13</th>\n",
       "      <td>2024-01-31 08:00:00</td>\n",
       "      <td>19.163151</td>\n",
       "    </tr>\n",
       "    <tr>\n",
       "      <th>14</th>\n",
       "      <td>2024-01-31 09:00:00</td>\n",
       "      <td>19.889564</td>\n",
       "    </tr>\n",
       "    <tr>\n",
       "      <th>15</th>\n",
       "      <td>2024-01-31 10:00:00</td>\n",
       "      <td>20.330898</td>\n",
       "    </tr>\n",
       "    <tr>\n",
       "      <th>16</th>\n",
       "      <td>2024-01-31 11:00:00</td>\n",
       "      <td>20.243156</td>\n",
       "    </tr>\n",
       "    <tr>\n",
       "      <th>17</th>\n",
       "      <td>2024-01-31 12:00:00</td>\n",
       "      <td>19.754894</td>\n",
       "    </tr>\n",
       "    <tr>\n",
       "      <th>18</th>\n",
       "      <td>2024-01-31 13:00:00</td>\n",
       "      <td>18.575315</td>\n",
       "    </tr>\n",
       "    <tr>\n",
       "      <th>19</th>\n",
       "      <td>2024-01-31 14:00:00</td>\n",
       "      <td>17.234341</td>\n",
       "    </tr>\n",
       "    <tr>\n",
       "      <th>20</th>\n",
       "      <td>2024-01-31 15:00:00</td>\n",
       "      <td>16.264964</td>\n",
       "    </tr>\n",
       "    <tr>\n",
       "      <th>21</th>\n",
       "      <td>2024-01-31 16:00:00</td>\n",
       "      <td>15.590784</td>\n",
       "    </tr>\n",
       "    <tr>\n",
       "      <th>22</th>\n",
       "      <td>2024-01-31 17:00:00</td>\n",
       "      <td>14.957953</td>\n",
       "    </tr>\n",
       "    <tr>\n",
       "      <th>23</th>\n",
       "      <td>2024-01-31 18:00:00</td>\n",
       "      <td>14.459259</td>\n",
       "    </tr>\n",
       "  </tbody>\n",
       "</table>\n",
       "</div>"
      ],
      "text/plain": [
       "             Time Slot  Predicted Temp\n",
       "0  2024-01-30 19:00:00       12.953478\n",
       "1  2024-01-30 20:00:00       13.033887\n",
       "2  2024-01-30 21:00:00       12.741606\n",
       "3  2024-01-30 22:00:00       12.286263\n",
       "4  2024-01-30 23:00:00       11.399641\n",
       "5  2024-01-31 00:00:00       10.906772\n",
       "6  2024-01-31 01:00:00       10.609479\n",
       "7  2024-01-31 02:00:00       10.807163\n",
       "8  2024-01-31 03:00:00       11.036558\n",
       "9  2024-01-31 04:00:00       11.335605\n",
       "10 2024-01-31 05:00:00       13.436489\n",
       "11 2024-01-31 06:00:00       15.725506\n",
       "12 2024-01-31 07:00:00       17.941003\n",
       "13 2024-01-31 08:00:00       19.163151\n",
       "14 2024-01-31 09:00:00       19.889564\n",
       "15 2024-01-31 10:00:00       20.330898\n",
       "16 2024-01-31 11:00:00       20.243156\n",
       "17 2024-01-31 12:00:00       19.754894\n",
       "18 2024-01-31 13:00:00       18.575315\n",
       "19 2024-01-31 14:00:00       17.234341\n",
       "20 2024-01-31 15:00:00       16.264964\n",
       "21 2024-01-31 16:00:00       15.590784\n",
       "22 2024-01-31 17:00:00       14.957953\n",
       "23 2024-01-31 18:00:00       14.459259"
      ]
     },
     "execution_count": 226,
     "metadata": {},
     "output_type": "execute_result"
    }
   ],
   "source": [
    "#print(weatherm.next_day_prediction(weather,wmodel,pred))\n",
    "\n",
    "weathermodel().next_day_prediction(weather,wmodel,pred)\n",
    "\n"
   ]
  },
  {
   "cell_type": "code",
   "execution_count": 227,
   "metadata": {},
   "outputs": [
    {
     "name": "stdout",
     "output_type": "stream",
     "text": [
      "the next hour that is  17:43:09 the temperature will be  14.459258589472029 °C\n"
     ]
    }
   ],
   "source": [
    "weathermodel().display1()"
   ]
  },
  {
   "cell_type": "markdown",
   "metadata": {},
   "source": [
    "1.training\n",
    "2.save\n",
    "3.load\n",
    "4.predict\n"
   ]
  }
 ],
 "metadata": {
  "kernelspec": {
   "display_name": "Python 3",
   "language": "python",
   "name": "python3"
  },
  "language_info": {
   "codemirror_mode": {
    "name": "ipython",
    "version": 3
   },
   "file_extension": ".py",
   "mimetype": "text/x-python",
   "name": "python",
   "nbconvert_exporter": "python",
   "pygments_lexer": "ipython3",
   "version": "3.11.7"
  }
 },
 "nbformat": 4,
 "nbformat_minor": 2
}
